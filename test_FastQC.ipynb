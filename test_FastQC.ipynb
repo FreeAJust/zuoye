{
 "cells": [
  {
   "cell_type": "code",
   "execution_count": 1,
   "metadata": {},
   "outputs": [],
   "source": [
    "from StepBase import Step,Configure,Schedule\n",
    "#from FastQC import FastQC"
   ]
  },
  {
   "cell_type": "code",
   "execution_count": 2,
   "metadata": {},
   "outputs": [],
   "source": [
    "import os\n",
    "class FastQC(Step):\n",
    "\n",
    "    def  __init__(self,\n",
    "\n",
    "                  fastqInput=None,\n",
    "                  fileFormat =None,\n",
    "                  fastqcOutputDir = None,\n",
    "                  threads = None,\n",
    "                  cmdParam = None,\n",
    "                 **kwargs):\n",
    "        super(Step, self).__init__(cmdParam,**kwargs)\n",
    "\n",
    "        # set all input and output parameters\n",
    "        self.setParamIO('fastqInput',fastqInput)\n",
    "        self.setParamIO('fastqcOutputDir',fastqcOutputDir)\n",
    "\n",
    "        # call self.initIO()\n",
    "        self.initIO()\n",
    "\n",
    "        #set other parameters\n",
    "        #self.setParam('isNoDiscordant', isNoDiscordant)\n",
    "        self.setParam('fileFormat',fileFormat)\n",
    "        if threads is None:\n",
    "            threads = Configure.getThreads()\n",
    "        self.setParam('threads',threads)\n",
    "\n",
    "        print (self.params)\n",
    "\n",
    "    def impInitIO(self,):\n",
    "\n",
    "        # obtain all input and output parameters\n",
    "        fastqInput = self.getParamIO('fastqInput')\n",
    "        fastqcOutputDir = self.getParamIO('fastqcOutputDir')\n",
    "\n",
    "        #set all input files\n",
    "        self.setInputDirOrFile('fastqInput',fastqInput)\n",
    "\n",
    "\n",
    "        # create output file paths and set\n",
    "        if fastqcOutputDir is None:\n",
    "            self.setParamIO('fastqcOutputDir',Configure.getTmpDir())\n",
    "            fastqcOutputDir = self.getParamIO('fastqcOutputDir')\n",
    "        \n",
    "\n",
    "        self.setOutputDir1To1('fastqcOutput_html', fastqcOutputDir,None,'fastqc.html','fastqInput',sep='_')\n",
    "        self.setOutputDir1To1('fastqcOutput_zip', fastqcOutputDir,None,'fastqc.zip','fastqInput',sep='_')\n",
    "        \n",
    "        \n",
    "\n",
    "\n",
    "        # set how many sample are there\n",
    "        if fastqInput is not None:\n",
    "            self._setInputSize(len(self.getInputList('fastqInput')))\n",
    "\n",
    "\n",
    "    def call(self,*args):\n",
    "\n",
    "        Upstream = args[0]\n",
    "\n",
    "        # set all required input parameters from upstream object\n",
    "        #上游可能為 “fastqInput1”,“fastqInput2”,“fastqOnput1”\n",
    "        #self.setParamIO('fastqInput',Upstream.getOutput('fastqOutput1'))\n",
    "\n",
    "        print(\"Call the UpStream Node, Not implementation\")\n",
    "\n",
    "        #other things\n",
    "\n",
    "    def getMarkdownEN(self,):\n",
    "        fastqcHtml = self.getOutput('fastqcOutput_html')\n",
    "        fastqName = [ os.path.basename(item)[:-12] for item in fastqcHtml ]\n",
    "        \n",
    "        \n",
    "        fastqName_R = \"c(\\\"\" + \"\\\",\\\"\".join(fastqName) + \"\\\")\"\n",
    "        fastqcHtml_R = \"c(\\\"\" + \"\\\",\\\"\".join(fastqcHtml) + \"\\\")\"\n",
    "        mdtext = \"\"\"\n",
    "## FastQC Usage\n",
    "\n",
    "FastQC('/path/to/input_fastq',[fastq/sra],'/path/to/output_dir')\n",
    "Attention!\n",
    "* In this release, only .fastq format file can be setting as input!\n",
    "\n",
    "## FastQC Quality Control Result\n",
    "The FastQC Quality Control is shown below:\n",
    "```{{r eval=TRUE, echo=FALSE, warning=FALSE, message=FALSE}}\n",
    "library(knitr)\n",
    "library(kableExtra)\n",
    "fastq_name <- {fastq_name}\n",
    "fastqc_html <- {fastqc_report}\n",
    "fq <- cbind(fastq_name, fastqc_html)\n",
    "colnames(fq) <- c(\"Fastq Name\", \"Fastq Report\")\n",
    "kable(fq, \"html\") %>% kable_styling() %>% scroll_box(width = \"1100px\", height = \"500px\")\n",
    "```\n",
    "\n",
    "        \n",
    "\"\"\".format(fastq_name = fastqName_R,fastqc_report= fastqcHtml_R )\n",
    "        \n",
    "        \n",
    "        \n",
    "        \n",
    "        mdtext1 = \"\"\"\n",
    "## FastQC Usage\n",
    "\n",
    "FastQC('/path/to/input_fastq',[fastq/sra],'/path/to/output_dir')\n",
    "Attention!\n",
    "* In this release, only .fastq format file can be setting as input!\n",
    "\n",
    "## FastQC Quality Control Result\n",
    "The FastQC Quality Control is shown below:\n",
    "```{{python,echo=Fasle}}\n",
    "import pandas as pd\n",
    "pd.DataFrame({{\"Fastq Name\":{fastq_name},\"Report\":{fastqc_report}}})\n",
    "```\n",
    "\n",
    "\n",
    "        \n",
    "\"\"\".format(fastq_name = fastqName,fastqc_report= self.getOutput('fastqcOutput_html'))\n",
    "        \n",
    "        return mdtext\n",
    "            \n",
    "            \n",
    "    def _singleRun(self,i):\n",
    "        # obtain all input and output dir list\n",
    "        fastqInput = self.getInputList('fastqInput')\n",
    "        fastqcOutputDir = self.getParamIO('fastqcOutputDir')\n",
    "\n",
    "\n",
    "        if not os.path.exists(fastqcOutputDir):\n",
    "            os.mkdir(fastqcOutputDir)\n",
    "\n",
    "\n",
    "        cmdline = ['fastqc',\n",
    "                   '-t',str(self.getParam('threads')),\n",
    "                   '-o',fastqcOutputDir,\n",
    "                   fastqInput[i]\n",
    "                  ]\n",
    "        self.callCmdline('V1', cmdline)"
   ]
  },
  {
   "cell_type": "code",
   "execution_count": 3,
   "metadata": {},
   "outputs": [],
   "source": [
    "Configure.setIdentity(\"yinqijin\")\n",
    "\n",
    "Configure.enableDocker(False)"
   ]
  },
  {
   "cell_type": "code",
   "execution_count": 5,
   "metadata": {},
   "outputs": [
    {
     "name": "stdout",
     "output_type": "stream",
     "text": [
      "{'fileFormat': 'fastq', 'threads': 2}\n"
     ]
    }
   ],
   "source": [
    "fqc = FastQC('./minidata/smartseq/fastq/','fastq','./nun')"
   ]
  },
  {
   "cell_type": "markdown",
   "metadata": {},
   "source": [
    "fqc = FastQC('./minidata/smartseq/fastq/','fastq',)"
   ]
  },
  {
   "cell_type": "code",
   "execution_count": 6,
   "metadata": {},
   "outputs": [
    {
     "data": {
      "text/plain": [
       "{'fastqcOutput_html': ['/data/wz/zuoye/nun/SRR1295216_1_fastqc.html',\n",
       "  '/data/wz/zuoye/nun/SRR1295216_2_fastqc.html',\n",
       "  '/data/wz/zuoye/nun/SRR1295221_1_fastqc.html',\n",
       "  '/data/wz/zuoye/nun/SRR1295221_2_fastqc.html'],\n",
       " 'fastqcOutput_zip': ['/data/wz/zuoye/nun/SRR1295216_1_fastqc.zip',\n",
       "  '/data/wz/zuoye/nun/SRR1295216_2_fastqc.zip',\n",
       "  '/data/wz/zuoye/nun/SRR1295221_1_fastqc.zip',\n",
       "  '/data/wz/zuoye/nun/SRR1295221_2_fastqc.zip']}"
      ]
     },
     "execution_count": 6,
     "metadata": {},
     "output_type": "execute_result"
    }
   ],
   "source": [
    "fqc.outputs"
   ]
  },
  {
   "cell_type": "code",
   "execution_count": 7,
   "metadata": {},
   "outputs": [
    {
     "data": {
      "text/plain": [
       "{'fileFormat': 'fastq', 'threads': 2}"
      ]
     },
     "execution_count": 7,
     "metadata": {},
     "output_type": "execute_result"
    }
   ],
   "source": [
    "fqc.params"
   ]
  },
  {
   "cell_type": "code",
   "execution_count": 7,
   "metadata": {},
   "outputs": [
    {
     "data": {
      "text/plain": [
       "{'fastqInput': '/data/wz/zuoye/minidata/smartseq/fastq',\n",
       " 'fastqcOutputDir': '/data/wz/zuoye/nun'}"
      ]
     },
     "execution_count": 7,
     "metadata": {},
     "output_type": "execute_result"
    }
   ],
   "source": [
    "fqc.paramsIO"
   ]
  },
  {
   "cell_type": "code",
   "execution_count": 19,
   "metadata": {},
   "outputs": [
    {
     "name": "stdout",
     "output_type": "stream",
     "text": [
      "docker run -d -t --name=hca_V1_yinqijin --privileged=true -v /data/wz/zuoye:/data hca:latest /bin/bash\n",
      "Finished nothing to do\n"
     ]
    }
   ],
   "source": [
    "Schedule.run()"
   ]
  },
  {
   "cell_type": "code",
   "execution_count": null,
   "metadata": {},
   "outputs": [],
   "source": []
  },
  {
   "cell_type": "code",
   "execution_count": 20,
   "metadata": {},
   "outputs": [],
   "source": [
    "a =fqc.getMarkdownEN()"
   ]
  },
  {
   "cell_type": "code",
   "execution_count": 21,
   "metadata": {},
   "outputs": [
    {
     "name": "stdout",
     "output_type": "stream",
     "text": [
      "\n",
      "## FastQC Usage\n",
      "\n",
      "FastQC('/path/to/input_fastq',[fastq/sra],'/path/to/output_dir')\n",
      "Attention!\n",
      "* In this release, only .fastq format file can be setting as input!\n",
      "\n",
      "## FastQC Quality Control Result\n",
      "The FastQC Quality Control is shown below:\n",
      "```{r eval=TRUE, echo=FALSE, warning=FALSE, message=FALSE}\n",
      "library(knitr)\n",
      "library(kableExtra)\n",
      "fastq_name <- c(\"SRR1295216_1\",\"SRR1295216_2\",\"SRR1295221_1\",\"SRR1295221_2\")\n",
      "fastqc_html <- c(\"/data/wz/zuoye/nun/SRR1295216_1_fastqc.html\",\"/data/wz/zuoye/nun/SRR1295216_2_fastqc.html\",\"/data/wz/zuoye/nun/SRR1295221_1_fastqc.html\",\"/data/wz/zuoye/nun/SRR1295221_2_fastqc.html\")\n",
      "fq <- cbind(fastq_name, fastqc_html)\n",
      "colnames(fq) <- c(\"Fastq Name\", \"Fastq Report\")\n",
      "kable(fq, \"html\") %>% kable_styling() %>% scroll_box(width = \"1100px\", height = \"500px\")\n",
      "```\n",
      "\n",
      "        \n",
      "\n"
     ]
    }
   ],
   "source": [
    "print(a)"
   ]
  }
 ],
 "metadata": {
  "kernelspec": {
   "display_name": "Python 3",
   "language": "python",
   "name": "python3"
  },
  "language_info": {
   "codemirror_mode": {
    "name": "ipython",
    "version": 3
   },
   "file_extension": ".py",
   "mimetype": "text/x-python",
   "name": "python",
   "nbconvert_exporter": "python",
   "pygments_lexer": "ipython3",
   "version": "3.6.4"
  }
 },
 "nbformat": 4,
 "nbformat_minor": 2
}
